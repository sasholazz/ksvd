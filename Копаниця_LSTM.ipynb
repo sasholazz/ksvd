{
  "nbformat": 4,
  "nbformat_minor": 0,
  "metadata": {
    "colab": {
      "provenance": []
    },
    "kernelspec": {
      "name": "python3",
      "display_name": "Python 3"
    },
    "language_info": {
      "name": "python"
    }
  },
  "cells": [
    {
      "cell_type": "code",
      "execution_count": 1,
      "metadata": {
        "id": "RJhlUZslr4kl"
      },
      "outputs": [],
      "source": [
        "import numpy as np\n",
        "import tensorflow as tf\n",
        "from tensorflow.keras.preprocessing.text import Tokenizer\n",
        "from tensorflow.keras.preprocessing.sequence import pad_sequences\n"
      ]
    },
    {
      "cell_type": "code",
      "source": [
        "def create_lstm_model(vocab_size, embedding_dim, maxlen):\n",
        "    model = tf.keras.Sequential([\n",
        "        tf.keras.layers.Embedding(vocab_size, embedding_dim, input_length=maxlen),\n",
        "        tf.keras.layers.LSTM(64, return_sequences=True),\n",
        "        tf.keras.layers.LSTM(32),\n",
        "        tf.keras.layers.Dense(64, activation='relu'),\n",
        "        tf.keras.layers.Dense(1, activation='sigmoid')\n",
        "    ])\n",
        "    return model\n"
      ],
      "metadata": {
        "id": "bq7abrRqsMd8"
      },
      "execution_count": 2,
      "outputs": []
    },
    {
      "cell_type": "code",
      "source": [
        "# Приклади позитивних і негативних рецензій\n",
        "positive_reviews = [\n",
        "    \"Це був дуже захоплюючий фільм. Рекомендую всім!\",\n",
        "    \"Виступ акторів був чудовим, історія захоплююча.\",\n",
        "    \"Великий сюжет і чудова гра акторів!\"\n",
        "]\n",
        "\n",
        "negative_reviews = [\n",
        "    \"Фільм був дуже нудним. Витрачений час.\",\n",
        "    \"Жодних емоцій від перегляду цього фільму.\",\n",
        "    \"Актори були безвиразними, сюжет нецікавий.\"\n",
        "]\n",
        "\n",
        "# Об'єднуємо позитивні і негативні рецензії\n",
        "all_reviews = positive_reviews + negative_reviews\n",
        "\n",
        "# Мітки для позитивних і негативних рецензій\n",
        "labels = np.array([1] * len(positive_reviews) + [0] * len(negative_reviews))\n",
        "\n",
        "# Параметри токенізації і векторизації\n",
        "vocab_size = 1000\n",
        "embedding_dim = 16\n",
        "maxlen = 20\n",
        "trunc_type='post'\n",
        "padding_type='post'\n",
        "oov_tok = \"<OOV>\"\n",
        "training_size = len(all_reviews)\n",
        "\n",
        "tokenizer = Tokenizer(num_words=vocab_size, oov_token=oov_tok)\n",
        "tokenizer.fit_on_texts(all_reviews)\n",
        "word_index = tokenizer.word_index\n",
        "\n",
        "sequences = tokenizer.texts_to_sequences(all_reviews)\n",
        "padded = pad_sequences(sequences, maxlen=maxlen, padding=padding_type, truncating=trunc_type)\n",
        "\n",
        "# Розділяємо на навчальні та тестові дані\n",
        "split = int(0.8 * training_size)\n",
        "\n",
        "train_sequences = padded[:split]\n",
        "test_sequences = padded[split:]\n",
        "train_labels = labels[:split]\n",
        "test_labels = labels[split:]\n",
        "\n",
        "# Навчаємо моделі\n",
        "lstm_model = create_lstm_model(vocab_size, embedding_dim, maxlen)\n",
        "lstm_model.compile(loss='binary_crossentropy',optimizer='adam',metrics=['accuracy'])\n",
        "lstm_model.fit(train_sequences, train_labels, epochs=10, validation_data=(test_sequences, test_labels))"
      ],
      "metadata": {
        "colab": {
          "base_uri": "https://localhost:8080/"
        },
        "id": "dQfYyzB1sMuZ",
        "outputId": "2231fa00-5e87-43d4-d8a7-3d57cca2e91f"
      },
      "execution_count": 5,
      "outputs": [
        {
          "output_type": "stream",
          "name": "stdout",
          "text": [
            "Epoch 1/10\n",
            "1/1 [==============================] - 4s 4s/step - loss: 0.6928 - accuracy: 0.7500 - val_loss: 0.7031 - val_accuracy: 0.0000e+00\n",
            "Epoch 2/10\n",
            "1/1 [==============================] - 0s 74ms/step - loss: 0.6882 - accuracy: 0.7500 - val_loss: 0.7112 - val_accuracy: 0.0000e+00\n",
            "Epoch 3/10\n",
            "1/1 [==============================] - 0s 82ms/step - loss: 0.6843 - accuracy: 0.7500 - val_loss: 0.7201 - val_accuracy: 0.0000e+00\n",
            "Epoch 4/10\n",
            "1/1 [==============================] - 0s 61ms/step - loss: 0.6801 - accuracy: 0.7500 - val_loss: 0.7305 - val_accuracy: 0.0000e+00\n",
            "Epoch 5/10\n",
            "1/1 [==============================] - 0s 71ms/step - loss: 0.6753 - accuracy: 0.7500 - val_loss: 0.7430 - val_accuracy: 0.0000e+00\n",
            "Epoch 6/10\n",
            "1/1 [==============================] - 0s 70ms/step - loss: 0.6697 - accuracy: 0.7500 - val_loss: 0.7584 - val_accuracy: 0.0000e+00\n",
            "Epoch 7/10\n",
            "1/1 [==============================] - 0s 76ms/step - loss: 0.6631 - accuracy: 0.7500 - val_loss: 0.7777 - val_accuracy: 0.0000e+00\n",
            "Epoch 8/10\n",
            "1/1 [==============================] - 0s 81ms/step - loss: 0.6551 - accuracy: 0.7500 - val_loss: 0.8023 - val_accuracy: 0.0000e+00\n",
            "Epoch 9/10\n",
            "1/1 [==============================] - 0s 65ms/step - loss: 0.6455 - accuracy: 0.7500 - val_loss: 0.8340 - val_accuracy: 0.0000e+00\n",
            "Epoch 10/10\n",
            "1/1 [==============================] - 0s 66ms/step - loss: 0.6341 - accuracy: 0.7500 - val_loss: 0.8756 - val_accuracy: 0.0000e+00\n"
          ]
        },
        {
          "output_type": "execute_result",
          "data": {
            "text/plain": [
              "<keras.src.callbacks.History at 0x7fd4d7965ab0>"
            ]
          },
          "metadata": {},
          "execution_count": 5
        }
      ]
    }
  ]
}