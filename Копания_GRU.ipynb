{
  "nbformat": 4,
  "nbformat_minor": 0,
  "metadata": {
    "colab": {
      "provenance": []
    },
    "kernelspec": {
      "name": "python3",
      "display_name": "Python 3"
    },
    "language_info": {
      "name": "python"
    }
  },
  "cells": [
    {
      "cell_type": "code",
      "execution_count": 1,
      "metadata": {
        "id": "LNEHbpT1syAf"
      },
      "outputs": [],
      "source": [
        "import numpy as np\n",
        "import tensorflow as tf\n",
        "from tensorflow.keras.preprocessing.text import Tokenizer\n",
        "from tensorflow.keras.preprocessing.sequence import pad_sequences\n"
      ]
    },
    {
      "cell_type": "code",
      "source": [
        "def create_gru_model(vocab_size, embedding_dim, maxlen):\n",
        "    model = tf.keras.Sequential([\n",
        "        tf.keras.layers.Embedding(vocab_size, embedding_dim, input_length=maxlen),\n",
        "        tf.keras.layers.GRU(64, return_sequences=True),\n",
        "        tf.keras.layers.GRU(32),\n",
        "        tf.keras.layers.Dense(64, activation='relu'),\n",
        "        tf.keras.layers.Dense(1, activation='sigmoid')\n",
        "    ])\n",
        "    return model\n"
      ],
      "metadata": {
        "id": "jFkWb0-_s81-"
      },
      "execution_count": 2,
      "outputs": []
    },
    {
      "cell_type": "code",
      "source": [
        "\n",
        "positive_reviews = [\n",
        "    \"Це був дуже захоплюючий фільм. Рекомендую всім!\",\n",
        "    \"Виступ акторів був чудовим, історія захоплююча.\",\n",
        "    \"Великий сюжет і чудова гра акторів!\"\n",
        "]\n",
        "\n",
        "negative_reviews = [\n",
        "    \"Фільм був дуже нудним. Витрачений час.\",\n",
        "    \"Жодних емоцій від перегляду цього фільму.\",\n",
        "    \"Актори були безвиразними, сюжет нецікавий.\"\n",
        "]\n",
        "\n",
        "all_reviews = positive_reviews + negative_reviews\n",
        "\n",
        "labels = np.array([1] * len(positive_reviews) + [0] * len(negative_reviews))\n",
        "\n",
        "vocab_size = 1000\n",
        "embedding_dim = 16\n",
        "maxlen = 20\n",
        "trunc_type='post'\n",
        "padding_type='post'\n",
        "oov_tok = \"<OOV>\"\n",
        "training_size = len(all_reviews)\n",
        "\n",
        "tokenizer = Tokenizer(num_words=vocab_size, oov_token=oov_tok)\n",
        "tokenizer.fit_on_texts(all_reviews)\n",
        "word_index = tokenizer.word_index\n",
        "\n",
        "sequences = tokenizer.texts_to_sequences(all_reviews)\n",
        "padded = pad_sequences(sequences, maxlen=maxlen, padding=padding_type, truncating=trunc_type)\n",
        "\n",
        "split = int(0.8 * training_size)\n",
        "\n",
        "train_sequences = padded[:split]\n",
        "test_sequences = padded[split:]\n",
        "train_labels = labels[:split]\n",
        "test_labels = labels[split:]\n",
        "\n",
        "gru_model = create_gru_model(vocab_size, embedding_dim, maxlen)\n",
        "gru_model.compile(loss='binary_crossentropy',optimizer='adam',metrics=['accuracy'])\n",
        "gru_model.fit(train_sequences, train_labels, epochs=10, validation_data=(test_sequences, test_labels))\n"
      ],
      "metadata": {
        "colab": {
          "base_uri": "https://localhost:8080/"
        },
        "id": "3gWfvPw8s8_f",
        "outputId": "9fa824e8-c693-4bf9-aac9-152d89608317"
      },
      "execution_count": 3,
      "outputs": [
        {
          "output_type": "stream",
          "name": "stdout",
          "text": [
            "Epoch 1/10\n",
            "1/1 [==============================] - 6s 6s/step - loss: 0.6935 - accuracy: 0.2500 - val_loss: 0.7030 - val_accuracy: 0.0000e+00\n",
            "Epoch 2/10\n",
            "1/1 [==============================] - 0s 57ms/step - loss: 0.6883 - accuracy: 0.7500 - val_loss: 0.7132 - val_accuracy: 0.0000e+00\n",
            "Epoch 3/10\n",
            "1/1 [==============================] - 0s 55ms/step - loss: 0.6834 - accuracy: 0.7500 - val_loss: 0.7255 - val_accuracy: 0.0000e+00\n",
            "Epoch 4/10\n",
            "1/1 [==============================] - 0s 55ms/step - loss: 0.6777 - accuracy: 0.7500 - val_loss: 0.7388 - val_accuracy: 0.0000e+00\n",
            "Epoch 5/10\n",
            "1/1 [==============================] - 0s 70ms/step - loss: 0.6718 - accuracy: 0.7500 - val_loss: 0.7542 - val_accuracy: 0.0000e+00\n",
            "Epoch 6/10\n",
            "1/1 [==============================] - 0s 65ms/step - loss: 0.6652 - accuracy: 0.7500 - val_loss: 0.7723 - val_accuracy: 0.0000e+00\n",
            "Epoch 7/10\n",
            "1/1 [==============================] - 0s 78ms/step - loss: 0.6579 - accuracy: 0.7500 - val_loss: 0.7934 - val_accuracy: 0.0000e+00\n",
            "Epoch 8/10\n",
            "1/1 [==============================] - 0s 57ms/step - loss: 0.6499 - accuracy: 0.7500 - val_loss: 0.8185 - val_accuracy: 0.0000e+00\n",
            "Epoch 9/10\n",
            "1/1 [==============================] - 0s 57ms/step - loss: 0.6410 - accuracy: 0.7500 - val_loss: 0.8483 - val_accuracy: 0.0000e+00\n",
            "Epoch 10/10\n",
            "1/1 [==============================] - 0s 67ms/step - loss: 0.6312 - accuracy: 0.7500 - val_loss: 0.8841 - val_accuracy: 0.0000e+00\n"
          ]
        },
        {
          "output_type": "execute_result",
          "data": {
            "text/plain": [
              "<keras.src.callbacks.History at 0x7a7768897220>"
            ]
          },
          "metadata": {},
          "execution_count": 3
        }
      ]
    }
  ]
}